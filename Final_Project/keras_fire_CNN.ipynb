{
 "cells": [
  {
   "cell_type": "code",
   "execution_count": 1,
   "metadata": {},
   "outputs": [],
   "source": [
    "import glob\n",
    "import os\n",
    "import pandas as pd\n",
    "import numpy as np\n",
    "import matplotlib.pyplot as plt\n",
    "\n",
    "import keras\n",
    "from keras.preprocessing.image import img_to_array\n",
    "from keras.models import Sequential\n",
    "from keras.utils import np_utils\n",
    "from keras.layers.core import Dense, Activation\n",
    "from keras.layers import Input, Conv2D, MaxPooling2D, Flatten, Dropout\n",
    "\n",
    "from sklearn import model_selection\n",
    "from PIL import Image"
   ]
  },
  {
   "cell_type": "code",
   "execution_count": 2,
   "metadata": {},
   "outputs": [],
   "source": [
    "fire_files = glob.glob(\"fire_images/*\")\n",
    "normal_files = glob.glob(\"normal_images/*\")\n",
    "\n",
    "ls_fire = []\n",
    "ls_normal = []\n",
    "\n",
    "for i in fire_files:\n",
    "    ls_fire.append(['fire_images', os.path.basename(i), '1'])\n",
    "    \n",
    "for i in normal_files:\n",
    "    ls_normal.append(['normal_images', os.path.basename(i), '0'])"
   ]
  },
  {
   "cell_type": "code",
   "execution_count": 3,
   "metadata": {},
   "outputs": [],
   "source": [
    "df_fire = pd.DataFrame(ls_fire, columns=['folder', 'filename', 'label'])"
   ]
  },
  {
   "cell_type": "code",
   "execution_count": 4,
   "metadata": {},
   "outputs": [
    {
     "data": {
      "text/html": [
       "<div>\n",
       "<style scoped>\n",
       "    .dataframe tbody tr th:only-of-type {\n",
       "        vertical-align: middle;\n",
       "    }\n",
       "\n",
       "    .dataframe tbody tr th {\n",
       "        vertical-align: top;\n",
       "    }\n",
       "\n",
       "    .dataframe thead th {\n",
       "        text-align: right;\n",
       "    }\n",
       "</style>\n",
       "<table border=\"1\" class=\"dataframe\">\n",
       "  <thead>\n",
       "    <tr style=\"text-align: right;\">\n",
       "      <th></th>\n",
       "      <th>folder</th>\n",
       "      <th>filename</th>\n",
       "      <th>label</th>\n",
       "    </tr>\n",
       "  </thead>\n",
       "  <tbody>\n",
       "    <tr>\n",
       "      <th>0</th>\n",
       "      <td>fire_images</td>\n",
       "      <td>1.jpg</td>\n",
       "      <td>1</td>\n",
       "    </tr>\n",
       "    <tr>\n",
       "      <th>1</th>\n",
       "      <td>fire_images</td>\n",
       "      <td>10-9-15-2-400.jpg</td>\n",
       "      <td>1</td>\n",
       "    </tr>\n",
       "    <tr>\n",
       "      <th>2</th>\n",
       "      <td>fire_images</td>\n",
       "      <td>11_10_19-mjs_ft_hotel-fire_19183862.jpg</td>\n",
       "      <td>1</td>\n",
       "    </tr>\n",
       "    <tr>\n",
       "      <th>3</th>\n",
       "      <td>fire_images</td>\n",
       "      <td>132-img1.png</td>\n",
       "      <td>1</td>\n",
       "    </tr>\n",
       "    <tr>\n",
       "      <th>4</th>\n",
       "      <td>fire_images</td>\n",
       "      <td>132343342_21n.jpg</td>\n",
       "      <td>1</td>\n",
       "    </tr>\n",
       "  </tbody>\n",
       "</table>\n",
       "</div>"
      ],
      "text/plain": [
       "        folder                                 filename label\n",
       "0  fire_images                                    1.jpg     1\n",
       "1  fire_images                        10-9-15-2-400.jpg     1\n",
       "2  fire_images  11_10_19-mjs_ft_hotel-fire_19183862.jpg     1\n",
       "3  fire_images                             132-img1.png     1\n",
       "4  fire_images                        132343342_21n.jpg     1"
      ]
     },
     "execution_count": 4,
     "metadata": {},
     "output_type": "execute_result"
    }
   ],
   "source": [
    "df_fire.head()"
   ]
  },
  {
   "cell_type": "code",
   "execution_count": 5,
   "metadata": {},
   "outputs": [],
   "source": [
    "df_normal = pd.DataFrame(ls_normal, columns=['folder', 'filename', 'label'])"
   ]
  },
  {
   "cell_type": "code",
   "execution_count": 6,
   "metadata": {},
   "outputs": [
    {
     "data": {
      "text/html": [
       "<div>\n",
       "<style scoped>\n",
       "    .dataframe tbody tr th:only-of-type {\n",
       "        vertical-align: middle;\n",
       "    }\n",
       "\n",
       "    .dataframe tbody tr th {\n",
       "        vertical-align: top;\n",
       "    }\n",
       "\n",
       "    .dataframe thead th {\n",
       "        text-align: right;\n",
       "    }\n",
       "</style>\n",
       "<table border=\"1\" class=\"dataframe\">\n",
       "  <thead>\n",
       "    <tr style=\"text-align: right;\">\n",
       "      <th></th>\n",
       "      <th>folder</th>\n",
       "      <th>filename</th>\n",
       "      <th>label</th>\n",
       "    </tr>\n",
       "  </thead>\n",
       "  <tbody>\n",
       "    <tr>\n",
       "      <th>0</th>\n",
       "      <td>normal_images</td>\n",
       "      <td>0.07180100_1442390923_.jpg</td>\n",
       "      <td>0</td>\n",
       "    </tr>\n",
       "    <tr>\n",
       "      <th>1</th>\n",
       "      <td>normal_images</td>\n",
       "      <td>012038.jpg</td>\n",
       "      <td>0</td>\n",
       "    </tr>\n",
       "    <tr>\n",
       "      <th>2</th>\n",
       "      <td>normal_images</td>\n",
       "      <td>014-taal-crater-lake_586DA81BD8A34008B4CFFA1B2...</td>\n",
       "      <td>0</td>\n",
       "    </tr>\n",
       "    <tr>\n",
       "      <th>3</th>\n",
       "      <td>normal_images</td>\n",
       "      <td>02-icehouse-louisiana-coworking-office.jpg</td>\n",
       "      <td>0</td>\n",
       "    </tr>\n",
       "    <tr>\n",
       "      <th>4</th>\n",
       "      <td>normal_images</td>\n",
       "      <td>040210_Aurora_011.jpg</td>\n",
       "      <td>0</td>\n",
       "    </tr>\n",
       "  </tbody>\n",
       "</table>\n",
       "</div>"
      ],
      "text/plain": [
       "          folder                                           filename label\n",
       "0  normal_images                         0.07180100_1442390923_.jpg     0\n",
       "1  normal_images                                         012038.jpg     0\n",
       "2  normal_images  014-taal-crater-lake_586DA81BD8A34008B4CFFA1B2...     0\n",
       "3  normal_images         02-icehouse-louisiana-coworking-office.jpg     0\n",
       "4  normal_images                              040210_Aurora_011.jpg     0"
      ]
     },
     "execution_count": 6,
     "metadata": {},
     "output_type": "execute_result"
    }
   ],
   "source": [
    "df_normal.head()"
   ]
  },
  {
   "cell_type": "code",
   "execution_count": 7,
   "metadata": {},
   "outputs": [],
   "source": [
    "df = pd.concat([df_fire, df_normal]).reset_index()"
   ]
  },
  {
   "cell_type": "code",
   "execution_count": 8,
   "metadata": {},
   "outputs": [],
   "source": [
    "df_train, df_test = model_selection.train_test_split(df, test_size = 0.2, random_state = 0)\n",
    "df_train = df_train.reset_index().drop(['level_0', 'index'], axis=1)\n",
    "df_test = df_test.reset_index().drop(['level_0', 'index'], axis=1)"
   ]
  },
  {
   "cell_type": "code",
   "execution_count": 9,
   "metadata": {},
   "outputs": [],
   "source": [
    "#img = Image.open('{}/{}'.format(df_fire['folder'][0], df_fire['filename'][0]))\n",
    "#print(img.size)\n",
    "#image_red = img.resize((1024, 1024))\n",
    "#image = img_to_array(image_red)"
   ]
  },
  {
   "cell_type": "code",
   "execution_count": 10,
   "metadata": {},
   "outputs": [],
   "source": [
    "#image"
   ]
  },
  {
   "cell_type": "code",
   "execution_count": 11,
   "metadata": {},
   "outputs": [],
   "source": [
    "#image.shape"
   ]
  },
  {
   "cell_type": "code",
   "execution_count": 12,
   "metadata": {},
   "outputs": [],
   "source": [
    "def data_gen(df, batch_size):\n",
    "    while True:\n",
    "        x_batch = np.zeros((batch_size, 1024, 1024, 3))\n",
    "        y_batch = np.zeros((batch_size, 1))\n",
    "        global_i = 0\n",
    "\n",
    "        for batch_index in range(len(df)//batch_size):\n",
    "            start_batch_index = batch_index*batch_size\n",
    "            end_batch_index = (batch_index+1)*batch_size\n",
    "            local_i = 0\n",
    "\n",
    "            for filename, label in zip(df['filename'][start_batch_index:end_batch_index], df['label'][start_batch_index:end_batch_index]):\n",
    "                folder = df['folder'][global_i]\n",
    "                img = Image.open(os.path.join(folder, filename))\n",
    "                img = img.resize((1024, 1024))\n",
    "                x_batch[local_i] = img_to_array(img)\n",
    "                y_batch[local_i] = label\n",
    "                global_i += 1\n",
    "                local_i += 1\n",
    "        \n",
    "            yield x_batch, np_utils.to_categorical(y_batch, 2)"
   ]
  },
  {
   "cell_type": "code",
   "execution_count": 17,
   "metadata": {},
   "outputs": [],
   "source": [
    "model = Sequential()\n",
    "\n",
    "model.add(Conv2D(16, kernel_size = (3,3), activation='relu', input_shape=(1024, 1024, 3)))\n",
    "model.add(Conv2D(16, kernel_size=(3,3), activation='relu'))\n",
    "model.add(MaxPooling2D(pool_size=(2, 2)))\n",
    "model.add(Dropout(0.5))\n",
    "model.add(Flatten())\n",
    "model.add(Dense(4, activation='relu'))\n",
    "model.add(Dropout(0.5))\n",
    "model.add(Dense(2, activation='sigmoid'))\n",
    "\n",
    "model.compile(loss='binary_crossentropy', optimizer='sgd', metrics = ['accuracy'])"
   ]
  },
  {
   "cell_type": "code",
   "execution_count": 18,
   "metadata": {},
   "outputs": [
    {
     "name": "stdout",
     "output_type": "stream",
     "text": [
      "Model: \"sequential_2\"\n",
      "_________________________________________________________________\n",
      "Layer (type)                 Output Shape              Param #   \n",
      "=================================================================\n",
      "conv2d_6 (Conv2D)            (None, 1022, 1022, 16)    448       \n",
      "_________________________________________________________________\n",
      "conv2d_7 (Conv2D)            (None, 1020, 1020, 16)    2320      \n",
      "_________________________________________________________________\n",
      "max_pooling2d_4 (MaxPooling2 (None, 510, 510, 16)      0         \n",
      "_________________________________________________________________\n",
      "dropout (Dropout)            (None, 510, 510, 16)      0         \n",
      "_________________________________________________________________\n",
      "flatten_2 (Flatten)          (None, 4161600)           0         \n",
      "_________________________________________________________________\n",
      "dense_2 (Dense)              (None, 4)                 16646404  \n",
      "_________________________________________________________________\n",
      "dropout_1 (Dropout)          (None, 4)                 0         \n",
      "_________________________________________________________________\n",
      "dense_3 (Dense)              (None, 2)                 10        \n",
      "=================================================================\n",
      "Total params: 16,649,182\n",
      "Trainable params: 16,649,182\n",
      "Non-trainable params: 0\n",
      "_________________________________________________________________\n"
     ]
    }
   ],
   "source": [
    "model.summary()"
   ]
  },
  {
   "cell_type": "code",
   "execution_count": null,
   "metadata": {},
   "outputs": [],
   "source": [
    "model.fit_generator(generator = data_gen(df_train, 10), steps_per_epoch=len(df_train)//10, epochs=5, verbose=1)"
   ]
  },
  {
   "cell_type": "markdown",
   "metadata": {},
   "source": [
    "<img src=\"accuracy.JPG\">"
   ]
  },
  {
   "cell_type": "markdown",
   "metadata": {},
   "source": [
    "Results above show that the model gets around 83.3% Accuracy."
   ]
  },
  {
   "cell_type": "code",
   "execution_count": null,
   "metadata": {},
   "outputs": [],
   "source": []
  }
 ],
 "metadata": {
  "kernelspec": {
   "display_name": "Python 3",
   "language": "python",
   "name": "python3"
  },
  "language_info": {
   "codemirror_mode": {
    "name": "ipython",
    "version": 3
   },
   "file_extension": ".py",
   "mimetype": "text/x-python",
   "name": "python",
   "nbconvert_exporter": "python",
   "pygments_lexer": "ipython3",
   "version": "3.8.2"
  }
 },
 "nbformat": 4,
 "nbformat_minor": 4
}
